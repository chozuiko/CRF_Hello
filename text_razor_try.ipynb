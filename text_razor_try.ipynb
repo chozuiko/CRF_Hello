{
 "cells": [
  {
   "cell_type": "code",
   "execution_count": 2,
   "metadata": {
    "collapsed": true
   },
   "outputs": [],
   "source": [
    "import pandas as pd\n",
    "import numpy as np\n",
    "import nltk\n",
    "from nltk.corpus import stopwords\n",
    "from sklearn.metrics import accuracy_score"
   ]
  },
  {
   "cell_type": "code",
   "execution_count": 31,
   "metadata": {},
   "outputs": [
    {
     "name": "stdout",
     "output_type": "stream",
     "text": [
      "('', '', 'cash')\n",
      "('', '', 'fee')\n",
      "('', '', 'patient')\n",
      "('', '', 'insurance')\n",
      "('', '', 'fee')\n",
      "('', '', 'fee')\n",
      "('', '', 'desk')\n",
      "('', '', 'attention')\n",
      "('', '', 'hospital')\n",
      "('', '', 'system')\n",
      "('', '', '')\n",
      "('', '', '')\n",
      "('', '', '')\n",
      "('', '', 'office')\n"
     ]
    }
   ],
   "source": [
    "filename = 'test.txt'\n",
    "file = open(filename, 'rt')\n",
    "text = file.read()\n",
    "file.close()\n",
    "\n",
    "def extract_statement(tags):\n",
    "    '''Extracts a (subject, relation, object) triple from each statement based on the POS tags'''\n",
    "    subject, relation, obj = '', '', ''\n",
    "    for word,tag in tags:\n",
    "        if tag == 'NNP':\n",
    "            subject = word\n",
    "        elif tag == 'VBD' or word == 'journeyed': # TODO: 'journeyed' is tagged improperly\n",
    "            relation = word\n",
    "        if tag == 'NNP' or tag == 'NN':\n",
    "            obj = word\n",
    "    return (subject, relation, obj)\n",
    "    \n",
    "\n",
    "\n",
    "\n",
    "    \n",
    "    # filter out stop words\n",
    "#     stop_words = set(stopwords.words('english'))\n",
    "#     words = [w for w in words if not w in stop_words]\n",
    "#     print(words)\n",
    "\n",
    "\n",
    "\n"
   ]
  },
  {
   "cell_type": "code",
   "execution_count": 1,
   "metadata": {},
   "outputs": [
    {
     "ename": "NameError",
     "evalue": "name 'text' is not defined",
     "output_type": "error",
     "traceback": [
      "\u001b[0;31m---------------------------------------------------------------------------\u001b[0m",
      "\u001b[0;31mNameError\u001b[0m                                 Traceback (most recent call last)",
      "\u001b[0;32m<ipython-input-1-a5e0d0cdd167>\u001b[0m in \u001b[0;36m<module>\u001b[0;34m()\u001b[0m\n\u001b[1;32m      8\u001b[0m \u001b[0;34m\u001b[0m\u001b[0m\n\u001b[1;32m      9\u001b[0m \u001b[0mstop_words\u001b[0m \u001b[0;34m=\u001b[0m \u001b[0mset\u001b[0m\u001b[0;34m(\u001b[0m\u001b[0mstopwords\u001b[0m\u001b[0;34m.\u001b[0m\u001b[0mwords\u001b[0m\u001b[0;34m(\u001b[0m\u001b[0;34m'english'\u001b[0m\u001b[0;34m)\u001b[0m\u001b[0;34m)\u001b[0m\u001b[0;34m\u001b[0m\u001b[0m\n\u001b[0;32m---> 10\u001b[0;31m \u001b[0msentences\u001b[0m \u001b[0;34m=\u001b[0m \u001b[0msent_tokenize\u001b[0m\u001b[0;34m(\u001b[0m\u001b[0mtext\u001b[0m\u001b[0;34m)\u001b[0m\u001b[0;34m\u001b[0m\u001b[0m\n\u001b[0m\u001b[1;32m     11\u001b[0m \u001b[0;32mfor\u001b[0m \u001b[0msentence\u001b[0m \u001b[0;32min\u001b[0m \u001b[0msentences\u001b[0m\u001b[0;34m:\u001b[0m\u001b[0;34m\u001b[0m\u001b[0m\n\u001b[1;32m     12\u001b[0m \u001b[0;34m\u001b[0m\u001b[0m\n",
      "\u001b[0;31mNameError\u001b[0m: name 'text' is not defined"
     ]
    }
   ],
   "source": [
    "from nltk import sent_tokenize\n",
    "from nltk.corpus import stopwords\n",
    "from nltk.tokenize import word_tokenize\n",
    "\n",
    "import string\n",
    "\n",
    "sent_tokenize_list = sent_tokenize(response.cleaned_text)\n",
    "print(len(sent_tokenize_list))\n",
    "print(sent_tokenize_list[1])\n",
    "setence = Sentence(sent_tokenize_list[1])\n",
    "\n",
    "# split into sentences\n",
    "\n",
    "stop_words = set(stopwords.words('english'))\n",
    "sentences = sent_tokenize(text)\n",
    "for sentence in sentences:\n",
    "    \n",
    "    tokens = word_tokenize(sentence)\n",
    "    # convert to lower case\n",
    "    tokens = [w.lower() for w in tokens]\n",
    "    # remove punctuation from each word\n",
    "    \n",
    "    table = str.maketrans('', '', string.punctuation)\n",
    "    stripped = [w.translate(table) for w in tokens]\n",
    "    # remove remaining tokens that are not alphabetic\n",
    "    words = [word for word in stripped if word.isalpha()]\n",
    "    tagged_word = nltk.pos_tag(words)\n",
    "    print(extract_statement(tagged_word))\n",
    "    \n",
    "\n",
    "\n"
   ]
  },
  {
   "cell_type": "code",
   "execution_count": null,
   "metadata": {
    "collapsed": true
   },
   "outputs": [],
   "source": [
    "sent_tokenize_list = sent_tokenize(response.cleaned_text)\n",
    "print(len(sent_tokenize_list))\n",
    "print(sent_tokenize_list[1])\n",
    "setence = Sentence(sent_tokenize_list[1])"
   ]
  },
  {
   "cell_type": "code",
   "execution_count": 22,
   "metadata": {
    "scrolled": false
   },
   "outputs": [
    {
     "name": "stdout",
     "output_type": "stream",
     "text": [
      "apply for \n",
      "<class 'str'>\n"
     ]
    }
   ],
   "source": [
    "import textrazor\n",
    "from collections import Counter\n",
    "from nltk.tokenize import sent_tokenize\n",
    "\n",
    "# textrazor.api_key = \"6539e01f2076cebb1be13a160c17beca2d4e681b6236fc0e600e0220\"\n",
    "# client = textrazor.TextRazor(extractors=[\"entities\", \"topics\",\"entailments\",\"relations\", \"words\", \"phrases\", \"dependency-trees\"])\n",
    "\n",
    "# client.set_cleanup_mode(\"cleanHTML\")\n",
    "# client.set_cleanup_return_cleaned(return_cleaned=True)\n",
    "# response = client.analyze_url(\"http://wenzhang.16fan.com/a/248105.html\")\n",
    "client = textrazor.TextRazor(api_key=\"6539e01f2076cebb1be13a160c17beca2d4e681b6236fc0e600e0220\", extractors=[\"words\", \"phrases\"])\n",
    "activity_name = \"apply for visa\" \n",
    "\n",
    "response = client.analyze(activity_name)\n",
    "\n",
    "   \n",
    "for np in response.noun_phrases():\n",
    "    print(activity_name[0:np.words[0].input_start_offset])\n",
    "    print(type(activity_name[np.words[0].input_start_offset: np.words[-1].input_end_offset]))\n",
    "\n",
    "# to_analyze = \"\"\"post offices in Japan offer a variety of services including the collection and sending of postal items such as letters, parcels, post cards, postal orders and registered mail both within Japan and overseas.\"\"\"\n",
    "# response = client.analyze(to_analyze)\n",
    "# for sentence in response.sentences():\n",
    "#     for word in sentence.words:\n",
    "#         for rel in word.relations:\n",
    "#             print([pword.token for pword in rel.predicate_words])\n",
    "                \n",
    "# c = Counter(response.noun_phrases())\n",
    "# c = list(c)\n",
    "# print(c)\n",
    "\n",
    "\n",
    "\n",
    "# for np in response.entities():\n",
    "#     print(np.id)\n",
    "    \n",
    "\n",
    "# generate [word list] Relation part \n",
    "# for rel in response.relations():\n",
    "#     for param in rel.params:\n",
    "#         print([word.token for word in param.param_words],param.relation)\n",
    "\n",
    "        \n",
    "\n",
    "        \n",
    "        \n",
    "#         print(param.relation)\n",
    "#         for word in param.relation:\n",
    "#             print(word.token, word.relation)\n",
    "\n",
    "# for rel in response.relations():\n",
    "#     for pword in rel.predicate_words:\n",
    "#         print(pword.token)\n",
    "\n",
    "# entity_list = [entity.id  for entity in response.entities() if not entity.id.isdigit()]\n",
    "# c = Counter(entity_list)\n",
    "# c = list(c)\n",
    "# print(c)"
   ]
  },
  {
   "cell_type": "code",
   "execution_count": 54,
   "metadata": {
    "scrolled": true
   },
   "outputs": [
    {
     "name": "stdout",
     "output_type": "stream",
     "text": [
      "apply for visa\n",
      "apply for \n",
      "visa\n",
      "<Record activity=<Node id=30 labels={'Activity'} properties={'name': 'apply for'}> entity=<Node id=6 labels={'Entity'} properties={'name': 'visa'}> req=<Node id=22 labels={'Entity'} properties={'name': 'passport'}> res=<Node id=6 labels={'Entity'} properties={'name': 'visa'}>>\n",
      "apply for\n",
      "<Record activity=<Node id=30 labels={'Activity'} properties={'name': 'apply for'}> entity=<Node id=6 labels={'Entity'} properties={'name': 'visa'}> req=<Node id=22 labels={'Entity'} properties={'name': 'passport'}> res=<Node id=6 labels={'Entity'} properties={'name': 'visa'}>>\n"
     ]
    }
   ],
   "source": [
    "import textrazor\n",
    "from neo4j.v1 import GraphDatabase, basic_auth\n",
    "driver = GraphDatabase.driver('bolt://localhost:7687', auth=basic_auth('neo4j', 'iwate'))\n",
    "session = driver.session()\n",
    "temp = \"\"\n",
    "\n",
    "\n",
    "def find_how_to_do(activity_name):\n",
    "    '''Find the related rel and entities in the knowledge graph'''\n",
    "\n",
    "    query = '''\n",
    "        MATCH (s:Activity)<-[r:REL]-(entity:Entity) where s.name contains $name\n",
    "        RETURN s.name,r.name,entity.name \n",
    "    '''\n",
    "    \n",
    "    print(activity_name)\n",
    "    \n",
    "    \n",
    "    query_static = '''\n",
    "    match (act:Activity{name:\"apply for\"})-[:Apply_to]->(en:Entity{name:\"visa\"})\n",
    "        with en as entity,act as activity \n",
    "        match (res:Entity)<-[:result]-(entity)-[:require]->(req:Entity) \n",
    "        return activity,entity,req,res\n",
    "    \n",
    "    '''\n",
    "    query_try = '''\n",
    "        match (act:Activity{name:$act_name})-[:Apply_to]->(en:Entity{name:$en_name})\n",
    "        with en as entity,act as activity \n",
    "        match (res:Entity)<-[:result]-(entity)-[:require]->(req:Entity) \n",
    "        return activity,entity,req,res\n",
    "    \n",
    "    '''\n",
    "#     global temp\n",
    "#     str_result = \"\"\n",
    "    client = textrazor.TextRazor(api_key=\"6539e01f2076cebb1be13a160c17beca2d4e681b6236fc0e600e0220\",\n",
    "                                 extractors=[\"words\", \"phrases\"])\n",
    "\n",
    "    response = client.analyze(activity_name)\n",
    "\n",
    "    for np in response.noun_phrases():\n",
    "        action_name = activity_name[0:np.words[0].input_start_offset]\n",
    "        entity_name = activity_name[np.words[0].input_start_offset: np.words[-1].input_end_offset]\n",
    "        \n",
    "    print(str(action_name))\n",
    "    print(entity_name)\n",
    "    print(session.run(query_static).single())\n",
    "    record = session.run(query_static).single()\n",
    "    print(record[\"activity\"][\"name\"])\n",
    "    print(session.run(query_try, act_name=\"apply for\", en_name=\"visa\").single())\n",
    "        \n",
    "    return \n",
    "#     for recode in session.run(query_try, act_name=action_name, en_name=entity_name):\n",
    "#         temp += recode[\"activity.name\"]+\" \"+recode[\"entity.name\"]+\"  require  \"+recode[\"req.name\"]+\"  result  \"+recode[\"res.name\"]\n",
    "#         # print(recode[\"s.name\"]+\"    \"+recode[\"r.name\"]+\"    \"+recode[\"entity.name\"]+\"\\n\")\n",
    "#     return temp\n",
    "\n",
    "          \n",
    "          \n",
    "find_how_to_do(\"apply for visa\")\n"
   ]
  },
  {
   "cell_type": "code",
   "execution_count": 72,
   "metadata": {},
   "outputs": [
    {
     "name": "stdout",
     "output_type": "stream",
     "text": [
      "apply for visa require passport result visa\n"
     ]
    }
   ],
   "source": [
    "from bs4 import BeautifulSoup\n",
    "import requests\n",
    "import json\n",
    "import textrazor\n",
    "from py2neo import authenticate, Graph\n",
    "\n",
    "USERNAME = \"neo4j\"  # use your actual username\n",
    "PASSWORD = \"iwate\"  # use your actual password\n",
    "authenticate(\"localhost:7474\", USERNAME, PASSWORD)\n",
    "graph = Graph()\n",
    "activity_name = \"apply for visa\"\n",
    "\n",
    "\n",
    "def find_how(activity_name):\n",
    "    query = \"\"\"\n",
    "    match (act:Activity{name:{act_name}})-[:Apply_to]->(en:Entity{name:{en_name}})\n",
    "            with en as entity,act as activity \n",
    "            match (res:Entity)<-[:result]-(entity)-[:require]->(req:Entity) \n",
    "            return activity.name,entity.name,req.name,res.name\n",
    "    \n",
    "    \"\"\"\n",
    "    client = textrazor.TextRazor(api_key=\"6539e01f2076cebb1be13a160c17beca2d4e681b6236fc0e600e0220\",\n",
    "                                     extractors=[\"words\", \"phrases\"])\n",
    "    \n",
    "    response = client.analyze(activity_name)\n",
    "    #Do not foget to strip all the phrase/\n",
    "    for np in response.noun_phrases():\n",
    "        action_name = activity_name[0:np.words[0].input_start_offset]\n",
    "        entity_name = activity_name[np.words[0].input_start_offset: np.words[-1].input_end_offset]\n",
    "    \n",
    "    cursor = graph.run(query, act_name=action_name.strip(), en_name=entity_name.strip())\n",
    "    records = []\n",
    "    for record in cursor:\n",
    "        records.append(record)\n",
    "    return records[0]['activity.name'] + \" \" + records[0]['entity.name'] + \" require \" + records[0]['req.name'] + \" result \" + records[0]['res.name']\n",
    "\n",
    "print(find_how(activity_name))"
   ]
  },
  {
   "cell_type": "code",
   "execution_count": 16,
   "metadata": {},
   "outputs": [
    {
     "ename": "SyntaxError",
     "evalue": "unexpected character after line continuation character (<ipython-input-16-87316363c7e5>, line 3)",
     "output_type": "error",
     "traceback": [
      "\u001b[0;36m  File \u001b[0;32m\"<ipython-input-16-87316363c7e5>\"\u001b[0;36m, line \u001b[0;32m3\u001b[0m\n\u001b[0;31m    temp.split(\"\"\"\\n\\n\\n\\n\"\"\")\u001b[0m\n\u001b[0m                              \n^\u001b[0m\n\u001b[0;31mSyntaxError\u001b[0m\u001b[0;31m:\u001b[0m unexpected character after line continuation character\n"
     ]
    }
   ],
   "source": [
    "\n",
    "temp = \"\"\"Work and Study\\n\\n\\n\\nImmigration\\nAbout different types of visa.\\n\\nWorking Holiday\\nA visa for young people from certain countries.\\n\\nWorking in Japan\\nGeneral information about working in Japan.\\n\\nTeaching Languages\\nNative language teachers are still in high demand.\\n\\nStudying in Japan\\nGeneral information about studying in Japan.\\n\\nLanguage Schools\\nA list of Japanese language schools.\\n\\n\\n\\n\\nAccommodation\\n\\n\\n\\nGuesthouses\\nInexpensive accommodation for foreigners.\\n\\nFinding an apartment\\nHow to look for an apartment in Japan.\\n\\nJapanese Apartments\\nGeneral information about Japanese apartments.\\n\\nUtilities\\nInformation about gas, water and electricity.\\n\\nElectricity\\nAbout voltage and Japanese plugs.\\n\\nFurniture\\nIntroduction of some unique Japanese furniture.\\n\\nGarbage Disposal\\nHow to properly get rid of your garbage.\\n\\n\\n\\n\\nEveryday Life\\n\\nFinancial Matters\\n\\n\\n\\nTaxes\\nInformation about paying taxes in Japan.\\n\\nCost of Living\\nInformation about prices in Japan.\\n\\nBanking\\nAbout Japanese banks and how to open an account.\\n\\n\\n\\nBasic Services\\n\\n\\n\\nPostal Services\\nAbout post offices and Japanese addresses.\\n\\nDelivery Services\\nAbout door-to-door delivery services (takuhaibin).\\n\\nTelephones\\nA guide to phones in Japan.\\n\\nMobile Phones\\nAbout cell phones.\\n\\n\\n\\nTransportation\\n\\n\\n\\nTransportation\\nAbout transportation in Japan.\\n\\nDriving in Japan\\nAbout driving and owning a car in Japan.\\n\\nBicycles\\nAbout everyday use of bicycles.\\n\\n\\n\\nShopping\\n\\n\\n\\nSupermarkets\\nAbout Japanese supermarkets.\\n\\n100 Yen Shops\\nAbout 100 Yen Shops.\\n\\nConvenience Stores\\nAbout Japanese convenience stores.\\n\\nDepartment Stores\\nAbout Japanese department stores.\\n\\n\\n\\nVarious Issues\\n\\n\\n\\nHolidays\\nA list of public holidays and annual events.\\n\\nCalendar\\nBasic information on the Japanese calendar.\\n\\nEmergencies\\nWhat to do in case of an emergency.\\n\\nNames\\nBasic information on Japanese names.\\n\\nBusiness cards\\nBusiness cards are used extensively in Japan.\\n\\n\\n\\nGeneral Background\\n\\n\\n\\nFood\\nAn introduction to the Japanese cuisine.\\n\\nEtiquette\\nIntroduction to Japanese customs.\\n\\nLanguage\\nIntroduction to the Japanese language.\\n\\nReligion\\nIntroduction to religion in Japan.\\n\\nTravel\\nIntroduction on travel in Japan.\"\"\n",
    "temp.split(\"\"\"\\n\\n\\n\\n\"\"\")"
   ]
  },
  {
   "cell_type": "code",
   "execution_count": 133,
   "metadata": {},
   "outputs": [
    {
     "name": "stdout",
     "output_type": "stream",
     "text": [
      "Period: The shorter of either: one year from the date on which you landed in Japan; or until the expiration day of your International Driving Permit.\n"
     ]
    }
   ],
   "source": [
    "from nltk.tokenize import sent_tokenize\n",
    "temp = \"\"\"International Driving Permit\n",
    "(issued by signatory countries\n",
    "of the Geneva Convention)\n",
    "If you have an International\n",
    "Driving Permit issued by a\n",
    "signatory country of the Geneva\n",
    "Convention, you are allowed to\n",
    "drive in Japan during the period\n",
    "specified below.\n",
    "Period: The shorter of either:\n",
    "one year from the date on which\n",
    "you landed in Japan; or until the\n",
    "expiration day of your\n",
    "International Driving Permit.\n",
    "This provision is not applicable\n",
    "if you are registered on the\n",
    "Basic Resident Register, left\n",
    "Japan with a reentry permit and\n",
    "landed in Japan again in less\n",
    "than three months after leaving\n",
    "Japan.\"\"\"\n",
    "\n",
    "sent_tokenize_list = sent_tokenize(temp)\n",
    "test = sent_tokenize_list[1].replace('\\n', ' ')\n",
    "print(test)\n",
    "\n"
   ]
  },
  {
   "cell_type": "code",
   "execution_count": 16,
   "metadata": {},
   "outputs": [
    {
     "name": "stdout",
     "output_type": "stream",
     "text": [
      "['c', 'a', 'b']\n"
     ]
    }
   ],
   "source": [
    "from collections import Counter\n",
    "x = Counter({'a':5, 'b':3, 'c':7})\n",
    "X = x.most_common()\n",
    "print([x[0] for x in X])\n"
   ]
  },
  {
   "cell_type": "code",
   "execution_count": 18,
   "metadata": {},
   "outputs": [
    {
     "name": "stdout",
     "output_type": "stream",
     "text": [
      "[]\n"
     ]
    }
   ],
   "source": [
    "rules_str = \"\"\"\n",
    "% Match two companies in a 'buy' relation.\n",
    "acquisition_rumor(CompanyA, CompanyB, EntailedWord) :-\n",
    "    entity_type(CompanyA, 'Organization'),\n",
    "    entity_type(CompanyB, 'Service'),\n",
    "    relation_overlap(BuyRelation, 'SUBJECT', CompanyA, 'OBJECT', CompanyB),\n",
    "    entailment_overlap(_, BuyRelation, EntailedWord),\n",
    "    member(EntailedWord, ['use', 'offer', 'provide']).\n",
    "\"\"\"\n",
    "client = textrazor.TextRazor(extractors=[\"acquisition_rumor\"])\n",
    "client.set_rules(rules_str)\n",
    "# client.set_cleanup_mode(\"cleanHTML\")\n",
    "client.set_cleanup_return_cleaned(return_cleaned = True)\n",
    "response = client.analyze_url(\"https://www.japanvisitor.com/japan-travel/japan-residents/japan-post\")\n",
    "# print(response.cleaned_text)\n",
    "response = client.analyze(response.cleaned_text)\n",
    "print(response.matching_rules())\n",
    "\n",
    "# for rumor in response.acquisition_rumor:\n",
    "#     print(rumor)"
   ]
  },
  {
   "cell_type": "code",
   "execution_count": 125,
   "metadata": {},
   "outputs": [
    {
     "name": "stdout",
     "output_type": "stream",
     "text": [
      "overseas\n",
      "overseas\n"
     ]
    }
   ],
   "source": [
    "import textrazor\n",
    "\n",
    "\n",
    "\n",
    "\n",
    "\n",
    "textrazor.api_key = \"6539e01f2076cebb1be13a160c17beca2d4e681b6236fc0e600e0220\"\n",
    "\n",
    "client = textrazor.TextRazor(extractors=[\"entities\", \"topics\",\"entailments\",\"relations\", \"words\", \"phrases\", \"dependency-trees\"])\n",
    "response = client.analyze(\"\"\"Japanese post offices also offer banking and insurance.\"\"\")\n",
    "\n",
    "\n",
    "\n",
    "# print(len(response.relations()))\n",
    "words = response.words()\n",
    "rels = response.relations()\n",
    "props = response.properties()\n",
    "\n",
    "\n",
    "\n",
    "for rel in rels:\n",
    "    for words in rel.predicate_words:\n",
    "        print(word.token)\n",
    "            \n",
    "\n",
    "#     print(predict.token)\n",
    "\n",
    "# print(len(props))\n",
    "# print(props[0].predicate_words)\n",
    "\n",
    "\n",
    "# print(rels[0].params[1].relation)\n",
    "# print(rels[0].params[1].param_words)\n",
    "\n",
    "for rel in rels:\n",
    "    for param in rel.params:\n",
    "        for word in param.param_words:\n",
    "            print(word.token)\n",
    "            \n",
    "            \n",
    "            \n",
    "#     for word in rel.params[1].param_words:\n",
    "#     print(word.token)\n",
    "\n",
    "# for rel in rels:\n",
    "#     print(rel.params)"
   ]
  },
  {
   "cell_type": "code",
   "execution_count": 117,
   "metadata": {},
   "outputs": [
    {
     "data": {
      "text/plain": [
       "[]"
      ]
     },
     "execution_count": 117,
     "metadata": {},
     "output_type": "execute_result"
    }
   ],
   "source": [
    "import spacy\n",
    "from textpipeliner import PipelineEngine, Context\n",
    "from textpipeliner.pipes import *\n",
    "\n",
    "nlp = spacy.load(\"en\")\n",
    "# doc = nlp(\"\"\"The approximately 24,000 post offices in Japan offer a variety of services including the collection and sending of postal items such as letters, parcels, post cards, postal orders and registered mail both within Japan and overseas. Japanese post offices also offer banking and insurance.\"\"\")\n",
    "doc = nlp(\"\"\"Japanese post offices also offer banking and insurance.\"\"\")\n",
    "\n",
    "\n",
    "pipes_structure = [SequencePipe([FindTokensPipe(\"VERB/nsubj/*\"),\n",
    "                                 NamedEntityFilterPipe(),\n",
    "                                 NamedEntityExtractorPipe()]),\n",
    "                   FindTokensPipe(\"VERB\"),\n",
    "                   AnyPipe([SequencePipe([FindTokensPipe(\"VBP/dobj/NNP\"),\n",
    "                                          AggregatePipe([NamedEntityFilterPipe(\"GPE\"), \n",
    "                                                NamedEntityFilterPipe(\"PERSON\")]),\n",
    "                                          NamedEntityExtractorPipe()]),\n",
    "                            SequencePipe([FindTokensPipe(\"VBP/**/*/pobj/NNP\"),\n",
    "                                          AggregatePipe([NamedEntityFilterPipe(\"LOC\"), \n",
    "                                                NamedEntityFilterPipe(\"PERSON\")]),\n",
    "                                          NamedEntityExtractorPipe()])])]\n",
    "\n",
    "engine = PipelineEngine(pipes_structure, Context(doc), [0,1,2])\n",
    "engine.process()"
   ]
  },
  {
   "cell_type": "code",
   "execution_count": null,
   "metadata": {
    "collapsed": true
   },
   "outputs": [],
   "source": [
    "\n",
    "# curl -X POST \\\n",
    "#     -H \"x-textrazor-key: YOUR_API_KEY\" \\\n",
    "#     -d \"extractors=entities,entailments\" \\\n",
    "#     -d \"text=Spain's stricken Bankia expects to sell off its vast portfolio of industrial holdings that includes a stake in the parent company of British Airways and Iberia.\" \\\n",
    "#     https://api.textrazor.com/\n",
    "# import requests\n",
    "\n",
    "# url = 'https://api.textrazor.com/'\n",
    "\n",
    "# data = {'message':'<messageML>Hello world!</messageML>'}\n",
    "# r = requests.post(url, files=data)\n",
    "\n",
    "# print(r.text)\n",
    "\n",
    "curl -X POST \\\n",
    "    -H \"x-textrazor-key: 6539e01f2076cebb1be13a160c17beca2d4e681b6236fc0e600e0220\" \\\n",
    "    -d \"extractors=entities,entailments\" \\\n",
    "    -d \"text=Spain's stricken Bankia expects to sell off its vast portfolio of industrial holdings that includes a stake in the parent company of British Airways and Iberia.\" \\\n",
    "    https://api.textrazor.com/\n",
    "\n",
    "\n",
    "import requests\n",
    "\n",
    "headers = {\n",
    "    'X-TextRazor-Key': '6539e01f2076cebb1be13a160c17beca2d4e681b6236fc0e600e0220'\n",
    "}\n",
    "\n",
    "payload = (('extractors', 'entailments'), ('extractors', 'entities'), ('text',\"Spains stricken Bankia expects to sell off its vast portfolio of industrial holdings that includes a stake in the parent company of British Airways and Iberia.\"))\n",
    "\n",
    "t = requests.post('url', headers=headers, data=payload).json()\n",
    "print(t.text)"
   ]
  },
  {
   "cell_type": "code",
   "execution_count": 3,
   "metadata": {},
   "outputs": [
    {
     "name": "stdout",
     "output_type": "stream",
     "text": [
      "test\n",
      "{'response': {'sentences': [{'position': 0, 'words': [{'position': 0, 'startingPos': 0, 'endingPos': 5, 'stem': 'spain', 'lemma': 'spain', 'token': 'Spain', 'partOfSpeech': 'NNP'}, {'position': 1, 'startingPos': 5, 'endingPos': 7, 'stem': \"'s\", 'lemma': \"'s\", 'token': \"'s\", 'partOfSpeech': 'POS'}, {'position': 2, 'startingPos': 8, 'endingPos': 16, 'stem': 'stricken', 'lemma': 'stricken', 'token': 'stricken', 'partOfSpeech': 'JJ'}, {'position': 3, 'startingPos': 17, 'endingPos': 23, 'stem': 'bankia', 'lemma': 'bankia', 'token': 'Bankia', 'partOfSpeech': 'NNP'}, {'position': 4, 'startingPos': 24, 'endingPos': 31, 'stem': 'expect', 'lemma': 'expect', 'token': 'expects', 'partOfSpeech': 'VBZ'}, {'position': 5, 'startingPos': 32, 'endingPos': 34, 'stem': 'to', 'lemma': 'to', 'token': 'to', 'partOfSpeech': 'TO'}, {'position': 6, 'startingPos': 35, 'endingPos': 39, 'stem': 'sell', 'lemma': 'sell', 'token': 'sell', 'partOfSpeech': 'VB'}, {'position': 7, 'startingPos': 40, 'endingPos': 43, 'stem': 'off', 'lemma': 'off', 'token': 'off', 'partOfSpeech': 'RP'}, {'position': 8, 'startingPos': 44, 'endingPos': 47, 'stem': 'it', 'lemma': 'it', 'token': 'its', 'partOfSpeech': 'PRP$'}, {'position': 9, 'startingPos': 48, 'endingPos': 52, 'stem': 'vast', 'lemma': 'vast', 'token': 'vast', 'partOfSpeech': 'JJ'}, {'position': 10, 'startingPos': 53, 'endingPos': 62, 'stem': 'portfolio', 'lemma': 'portfolio', 'token': 'portfolio', 'partOfSpeech': 'NN'}, {'position': 11, 'startingPos': 63, 'endingPos': 65, 'stem': 'of', 'lemma': 'of', 'token': 'of', 'partOfSpeech': 'IN'}, {'position': 12, 'startingPos': 66, 'endingPos': 76, 'stem': 'industri', 'lemma': 'industrial', 'token': 'industrial', 'partOfSpeech': 'JJ'}, {'position': 13, 'startingPos': 77, 'endingPos': 85, 'stem': 'hold', 'lemma': 'holding', 'token': 'holdings', 'partOfSpeech': 'NNS'}, {'position': 14, 'startingPos': 86, 'endingPos': 90, 'stem': 'that', 'lemma': 'that', 'token': 'that', 'partOfSpeech': 'WDT'}, {'position': 15, 'startingPos': 91, 'endingPos': 99, 'stem': 'includ', 'lemma': 'include', 'token': 'includes', 'partOfSpeech': 'VBZ'}, {'position': 16, 'startingPos': 100, 'endingPos': 101, 'stem': 'a', 'lemma': 'a', 'token': 'a', 'partOfSpeech': 'DT'}, {'position': 17, 'startingPos': 102, 'endingPos': 107, 'stem': 'stake', 'lemma': 'stake', 'token': 'stake', 'partOfSpeech': 'NN'}, {'position': 18, 'startingPos': 108, 'endingPos': 110, 'stem': 'in', 'lemma': 'in', 'token': 'in', 'partOfSpeech': 'IN'}, {'position': 19, 'startingPos': 111, 'endingPos': 114, 'stem': 'the', 'lemma': 'the', 'token': 'the', 'partOfSpeech': 'DT'}, {'position': 20, 'startingPos': 115, 'endingPos': 121, 'stem': 'parent', 'lemma': 'parent', 'token': 'parent', 'partOfSpeech': 'NN'}, {'position': 21, 'startingPos': 122, 'endingPos': 129, 'stem': 'compani', 'lemma': 'company', 'token': 'company', 'partOfSpeech': 'NN'}, {'position': 22, 'startingPos': 130, 'endingPos': 132, 'stem': 'of', 'lemma': 'of', 'token': 'of', 'partOfSpeech': 'IN'}, {'position': 23, 'startingPos': 133, 'endingPos': 140, 'stem': 'british', 'lemma': 'british', 'token': 'British', 'partOfSpeech': 'NNP'}, {'position': 24, 'startingPos': 141, 'endingPos': 148, 'stem': 'airway', 'lemma': 'airway', 'token': 'Airways', 'partOfSpeech': 'NNPS'}, {'position': 25, 'startingPos': 149, 'endingPos': 152, 'stem': 'and', 'lemma': 'and', 'token': 'and', 'partOfSpeech': 'CC'}, {'position': 26, 'startingPos': 153, 'endingPos': 159, 'stem': 'iberia', 'lemma': 'iberia', 'token': 'Iberia', 'partOfSpeech': 'NNP'}, {'position': 27, 'startingPos': 159, 'endingPos': 160, 'stem': '.', 'lemma': '.', 'token': '.', 'partOfSpeech': '.'}]}], 'language': 'eng', 'languageIsReliable': True, 'entities': [{'id': 0, 'matchingTokens': [20, 21], 'entityId': 'Parent company', 'confidenceScore': 1.088, 'wikiLink': 'http://en.wikipedia.org/wiki/Parent_company', 'matchedText': 'parent company', 'freebaseId': '/m/047vm7x', 'relevanceScore': 0.1047, 'entityEnglishId': 'Parent company', 'startingPos': 115, 'endingPos': 129, 'wikidataId': 'Q1956113'}, {'id': 1, 'type': ['Agent', 'Organisation', 'Company', 'Airline'], 'matchingTokens': [23, 24], 'entityId': 'British Airways', 'freebaseTypes': ['/organization/organization', '/aviation/aircraft_owner', '/travel/transport_operator', '/business/employer', '/business/issuer', '/business/business_operation', '/business/sponsor', '/aviation/airline', '/business/consumer_company'], 'confidenceScore': 9.822, 'wikiLink': 'http://en.wikipedia.org/wiki/British_Airways', 'matchedText': 'British Airways', 'freebaseId': '/m/0198z', 'relevanceScore': 0.2795, 'entityEnglishId': 'British Airways', 'startingPos': 133, 'endingPos': 148, 'wikidataId': 'Q8766'}, {'id': 2, 'type': ['Agent', 'Organisation', 'Company', 'Airline'], 'matchingTokens': [26], 'entityId': 'Iberia (airline)', 'freebaseTypes': ['/organization/organization_partnership', '/business/employer', '/business/business_operation', '/aviation/airline', '/aviation/aircraft_owner', '/organization/organization', '/business/issuer'], 'confidenceScore': 5.679, 'wikiLink': 'http://en.wikipedia.org/wiki/Iberia_(airline)', 'matchedText': 'Iberia', 'freebaseId': '/m/0p87j', 'relevanceScore': 0.3731, 'entityEnglishId': 'Iberia (airline)', 'startingPos': 153, 'endingPos': 159, 'wikidataId': 'Q187972'}, {'id': 3, 'type': ['Agent', 'Organisation', 'Company'], 'matchingTokens': [3], 'entityId': 'Bankia', 'freebaseTypes': ['/organization/organization', '/business/business_operation'], 'confidenceScore': 4.134, 'wikiLink': 'http://en.wikipedia.org/wiki/Bankia', 'matchedText': 'Bankia', 'freebaseId': '/m/0gg58rr', 'relevanceScore': 0.184, 'entityEnglishId': 'Bankia', 'startingPos': 17, 'endingPos': 23, 'wikidataId': 'Q806807'}, {'id': 4, 'type': ['Place', 'PopulatedPlace', 'Country'], 'matchingTokens': [0], 'entityId': 'Spain', 'freebaseTypes': ['/business/employer', '/olympics/olympic_participating_country', '/location/country', '/travel/travel_destination', '/organization/organization_member', '/business/business_location', '/sports/sport_country', '/media_common/netflix_genre', '/periodicals/newspaper_circulation_area', '/military/military_combatant', '/symbols/flag_referent', '/book/book_subject', '/organization/organization_scope', '/location/administrative_division', '/location/dated_location', '/royalty/system_of_nobility', '/food/beer_country_region', '/location/location', '/biology/breed_origin', '/film/film_location', '/royalty/kingdom', '/government/governmental_jurisdiction', '/sports/sports_team_location', '/location/statistical_region', '/organization/organization_founder'], 'confidenceScore': 10.21, 'wikiLink': 'http://en.wikipedia.org/wiki/Spain', 'matchedText': 'Spain', 'freebaseId': '/m/06mkj', 'relevanceScore': 0.1434, 'entityEnglishId': 'Spain', 'startingPos': 0, 'endingPos': 5, 'wikidataId': 'Q29'}], 'entailments': [{'id': 0, 'wordPositions': [2], 'entailedWords': ['stricken'], 'entailedTree': {'word': 'stricken'}, 'priorScore': 1, 'contextScore': 1, 'score': 1}, {'id': 1, 'wordPositions': [2], 'entailedWords': ['distressed'], 'entailedTree': {'word': 'distressed'}, 'priorScore': 0.006025, 'contextScore': -0.008587, 'score': 0.2171}, {'id': 2, 'wordPositions': [2], 'entailedWords': ['devastated'], 'entailedTree': {'word': 'devastated'}, 'priorScore': 0.002769, 'contextScore': 0.02607, 'score': 0.1658}, {'id': 3, 'wordPositions': [2], 'entailedWords': ['troubled'], 'entailedTree': {'word': 'troubled'}, 'priorScore': 0.003329, 'contextScore': 0.1264, 'score': 0.2172}, {'id': 4, 'wordPositions': [2], 'entailedWords': ['battered'], 'entailedTree': {'word': 'battered'}, 'priorScore': 0.004676, 'contextScore': 0.0577, 'score': 0.2166}, {'id': 5, 'wordPositions': [2], 'entailedWords': ['damaged'], 'entailedTree': {'word': 'damaged'}, 'priorScore': 0.0352, 'contextScore': -0.07299, 'score': 0.7749}, {'id': 6, 'wordPositions': [2], 'entailedWords': ['crashed'], 'entailedTree': {'word': 'crashed'}, 'priorScore': 0.003624, 'contextScore': -0.05442, 'score': 0.1507}, {'id': 7, 'wordPositions': [2], 'entailedWords': ['sunken'], 'entailedTree': {'word': 'sunken'}, 'priorScore': 0.03033, 'contextScore': 0.05343, 'score': 0.728}, {'id': 8, 'wordPositions': [2], 'entailedWords': ['doomed'], 'entailedTree': {'word': 'doomed'}, 'priorScore': 0.005326, 'contextScore': -0.08973, 'score': 0.1706}, {'id': 9, 'wordPositions': [2], 'entailedWords': ['large'], 'entailedTree': {'word': 'large'}, 'priorScore': 0.03229, 'contextScore': 0.4739, 'score': 0.9353}, {'id': 10, 'wordPositions': [2], 'entailedWords': ['low'], 'entailedTree': {'word': 'low'}, 'priorScore': 0.007009, 'contextScore': 0.1308, 'score': 0.2925}, {'id': 11, 'wordPositions': [2], 'entailedWords': ['hit'], 'entailedTree': {'word': 'hit'}, 'priorScore': 0.002666, 'contextScore': 0.02523, 'score': 0.1634}, {'id': 12, 'wordPositions': [4], 'entailedWords': ['expect'], 'entailedTree': {'word': 'expect'}, 'priorScore': 1, 'contextScore': 1, 'score': 1}, {'id': 13, 'wordPositions': [4], 'entailedWords': ['surprise'], 'entailedTree': {'word': 'surprise'}, 'priorScore': 0.00664, 'contextScore': -0.07328, 'score': 0.2035}, {'id': 14, 'wordPositions': [4], 'entailedWords': ['discount'], 'entailedTree': {'word': 'discount'}, 'priorScore': 0.001279, 'contextScore': 0.2174, 'score': 0.2125}, {'id': 15, 'wordPositions': [4], 'entailedWords': ['consider'], 'entailedTree': {'word': 'consider'}, 'priorScore': 0.03539, 'contextScore': -0.1171, 'score': 0.761}, {'id': 16, 'wordPositions': [4], 'entailedWords': ['announce'], 'entailedTree': {'word': 'announce'}, 'priorScore': 0.03795, 'contextScore': -0.1047, 'score': 0.817}, {'id': 17, 'wordPositions': [4], 'entailedWords': ['receive'], 'entailedTree': {'word': 'receive'}, 'priorScore': 0.0151, 'contextScore': -0.03961, 'score': 0.3862}, {'id': 18, 'wordPositions': [4], 'entailedWords': ['provide'], 'entailedTree': {'word': 'provide'}, 'priorScore': 0.009397, 'contextScore': -0.03513, 'score': 0.2739}, {'id': 19, 'wordPositions': [4], 'entailedWords': ['unable'], 'entailedTree': {'word': 'unable'}, 'priorScore': 0.06613, 'contextScore': 0.08524, 'score': 1.457}, {'id': 20, 'wordPositions': [4], 'entailedWords': ['refuse'], 'entailedTree': {'word': 'refuse'}, 'priorScore': 0.04348, 'contextScore': 0.02111, 'score': 0.9781}, {'id': 21, 'wordPositions': [4], 'entailedWords': ['manage'], 'entailedTree': {'word': 'manage'}, 'priorScore': 0.03339, 'contextScore': 0.2601, 'score': 0.8718}, {'id': 22, 'wordPositions': [4], 'entailedWords': ['likely'], 'entailedTree': {'word': 'likely'}, 'priorScore': 0.06973, 'contextScore': -0.06893, 'score': 1.467}, {'id': 23, 'wordPositions': [4], 'entailedWords': ['enable'], 'entailedTree': {'word': 'enable'}, 'priorScore': 0.04467, 'contextScore': -0.09815, 'score': 0.9542}, {'id': 24, 'wordPositions': [4], 'entailedWords': ['demand'], 'entailedTree': {'word': 'demand'}, 'priorScore': 0.01279, 'contextScore': 0.04085, 'score': 0.3721}, {'id': 25, 'wordPositions': [4], 'entailedWords': ['decide'], 'entailedTree': {'word': 'decide'}, 'priorScore': 0.0738, 'contextScore': -0.06907, 'score': 1.548}, {'id': 26, 'wordPositions': [4], 'entailedWords': ['choose'], 'entailedTree': {'word': 'choose'}, 'priorScore': 0.06648, 'contextScore': -0.04001, 'score': 1.414}, {'id': 27, 'wordPositions': [4], 'entailedWords': ['assume'], 'entailedTree': {'word': 'assume'}, 'priorScore': 0.03298, 'contextScore': -0.06116, 'score': 0.7351}, {'id': 28, 'wordPositions': [4], 'entailedWords': ['claim'], 'entailedTree': {'word': 'claim'}, 'priorScore': 0.03517, 'contextScore': -0.05593, 'score': 0.781}, {'id': 29, 'wordPositions': [4], 'entailedWords': ['allow'], 'entailedTree': {'word': 'allow'}, 'priorScore': 0.09938, 'contextScore': -0.04965, 'score': 2.068}, {'id': 30, 'wordPositions': [4], 'entailedWords': ['take'], 'entailedTree': {'word': 'take'}, 'priorScore': 0.03561, 'contextScore': 0.2196, 'score': 0.9}, {'id': 31, 'wordPositions': [4], 'entailedWords': ['seek'], 'entailedTree': {'word': 'seek'}, 'priorScore': 0.03694, 'contextScore': -0.07816, 'score': 0.8075}, {'id': 32, 'wordPositions': [4], 'entailedWords': ['rely'], 'entailedTree': {'word': 'rely'}, 'priorScore': 0.01004, 'contextScore': 0.03271, 'score': 0.314}, {'id': 33, 'wordPositions': [4], 'entailedWords': ['plan'], 'entailedTree': {'word': 'plan'}, 'priorScore': 0.02591, 'contextScore': 0.006187, 'score': 0.6207}, {'id': 34, 'wordPositions': [4], 'entailedWords': ['hold'], 'entailedTree': {'word': 'hold'}, 'priorScore': 0.01039, 'contextScore': 0.07687, 'score': 0.3385}, {'id': 35, 'wordPositions': [4], 'entailedWords': ['help'], 'entailedTree': {'word': 'help'}, 'priorScore': 0.04823, 'contextScore': 0.02252, 'score': 1.074}, {'id': 36, 'wordPositions': [4], 'entailedWords': ['fear'], 'entailedTree': {'word': 'fear'}, 'priorScore': 0.01006, 'contextScore': 0.08735, 'score': 0.3362}, {'id': 37, 'wordPositions': [4], 'entailedWords': ['fail'], 'entailedTree': {'word': 'fail'}, 'priorScore': 0.06525, 'contextScore': 0.005188, 'score': 1.407}, {'id': 38, 'wordPositions': [4], 'entailedWords': ['face'], 'entailedTree': {'word': 'face'}, 'priorScore': 0.00615, 'contextScore': 0.03223, 'score': 0.2359}, {'id': 39, 'wordPositions': [4], 'entailedWords': ['cost'], 'entailedTree': {'word': 'cost'}, 'priorScore': 0.007105, 'contextScore': 0.1038, 'score': 0.2836}, {'id': 40, 'wordPositions': [4], 'entailedWords': ['able'], 'entailedTree': {'word': 'able'}, 'priorScore': 0.1087, 'contextScore': -0.0784, 'score': 2.243}, {'id': 41, 'wordPositions': [4], 'entailedWords': ['see'], 'entailedTree': {'word': 'see'}, 'priorScore': 0.04593, 'contextScore': -0.06023, 'score': 0.9945}, {'id': 43, 'wordPositions': [6], 'entailedWords': ['sell'], 'entailedTree': {'word': 'sell'}, 'priorScore': 1, 'contextScore': 1, 'score': 1}, {'id': 44, 'wordPositions': [6], 'entailedWords': ['commercialize'], 'entailedTree': {'word': 'commercialize'}, 'priorScore': 0.000836, 'contextScore': 0.3614, 'score': 0.2613}, {'id': 45, 'wordPositions': [6], 'entailedWords': ['manufacture'], 'entailedTree': {'word': 'manufacture'}, 'priorScore': 0.03036, 'contextScore': 0.03653, 'score': 0.7219}, {'id': 46, 'wordPositions': [6], 'entailedWords': ['distribute'], 'entailedTree': {'word': 'distribute'}, 'priorScore': 0.03246, 'contextScore': 0.1134, 'score': 0.7946}, {'id': 47, 'wordPositions': [6], 'entailedWords': ['liquidate'], 'entailedTree': {'word': 'liquidate'}, 'priorScore': 0.002801, 'contextScore': 0.4634, 'score': 0.3414}, {'id': 48, 'wordPositions': [6], 'entailedWords': ['transfer'], 'entailedTree': {'word': 'transfer'}, 'priorScore': 0.01881, 'contextScore': 0.02682, 'score': 0.4869}, {'id': 49, 'wordPositions': [6], 'entailedWords': ['purchase'], 'entailedTree': {'word': 'purchase'}, 'priorScore': 0.09663, 'contextScore': 0.1858, 'score': 2.107}, {'id': 50, 'wordPositions': [6], 'entailedWords': ['exchange'], 'entailedTree': {'word': 'exchange'}, 'priorScore': 0.00501, 'contextScore': -0.05636, 'score': 0.1777}, {'id': 51, 'wordPositions': [6], 'entailedWords': ['contract'], 'entailedTree': {'word': 'contract'}, 'priorScore': 0.005238, 'contextScore': 0.1131, 'score': 0.25}, {'id': 52, 'wordPositions': [6], 'entailedWords': ['trading'], 'entailedTree': {'word': 'trading'}, 'priorScore': 0.0008386, 'contextScore': 0.3923, 'score': 0.2737}, {'id': 53, 'wordPositions': [6], 'entailedWords': ['selling'], 'entailedTree': {'word': 'selling'}, 'priorScore': 0.001662, 'contextScore': 0.1975, 'score': 0.2123}, {'id': 54, 'wordPositions': [6], 'entailedWords': ['produce'], 'entailedTree': {'word': 'produce'}, 'priorScore': 0.05892, 'contextScore': -0.04309, 'score': 1.261}, {'id': 55, 'wordPositions': [6], 'entailedWords': ['include'], 'entailedTree': {'word': 'include'}, 'priorScore': 0.04711, 'contextScore': 0.05474, 'score': 1.064}, {'id': 56, 'wordPositions': [6], 'entailedWords': ['dispose'], 'entailedTree': {'word': 'dispose'}, 'priorScore': 0.003508, 'contextScore': 0.1748, 'score': 0.2401}, {'id': 57, 'wordPositions': [6], 'entailedWords': ['auction'], 'entailedTree': {'word': 'auction'}, 'priorScore': 0.004248, 'contextScore': 0.106, 'score': 0.2274}, {'id': 58, 'wordPositions': [6], 'entailedWords': ['acquire'], 'entailedTree': {'word': 'acquire'}, 'priorScore': 0.05817, 'contextScore': 0.4216, 'score': 1.432}, {'id': 59, 'wordPositions': [6], 'entailedWords': ['unload'], 'entailedTree': {'word': 'unload'}, 'priorScore': 0.001172, 'contextScore': 0.291, 'score': 0.2398}, {'id': 60, 'wordPositions': [6], 'entailedWords': ['supply'], 'entailedTree': {'word': 'supply'}, 'priorScore': 0.01376, 'contextScore': 0.1673, 'score': 0.4421}, {'id': 61, 'wordPositions': [6], 'entailedWords': ['retain'], 'entailedTree': {'word': 'retain'}, 'priorScore': 0.01268, 'contextScore': 0.04037, 'score': 0.3697}, {'id': 62, 'wordPositions': [6], 'entailedWords': ['retail'], 'entailedTree': {'word': 'retail'}, 'priorScore': 0.0008887, 'contextScore': 0.344, 'score': 0.2554}, {'id': 63, 'wordPositions': [6], 'entailedWords': ['resell'], 'entailedTree': {'word': 'resell'}, 'priorScore': 0.005433, 'contextScore': 0.2, 'score': 0.2887}, {'id': 64, 'wordPositions': [6], 'entailedWords': ['resale'], 'entailedTree': {'word': 'resale'}, 'priorScore': 0.0004648, 'contextScore': 0.1229, 'score': 0.1585}, {'id': 65, 'wordPositions': [6], 'entailedWords': ['redeem'], 'entailedTree': {'word': 'redeem'}, 'priorScore': 0.001764, 'contextScore': 0.109, 'score': 0.1789}, {'id': 66, 'wordPositions': [6], 'entailedWords': ['market'], 'entailedTree': {'word': 'market'}, 'priorScore': 0.007433, 'contextScore': 0.6308, 'score': 0.501}, {'id': 67, 'wordPositions': [6], 'entailedWords': ['handle'], 'entailedTree': {'word': 'handle'}, 'priorScore': 0.007485, 'contextScore': -0.01895, 'score': 0.2421}, {'id': 68, 'wordPositions': [6], 'entailedWords': ['export'], 'entailedTree': {'word': 'export'}, 'priorScore': 0.01004, 'contextScore': 0.1062, 'score': 0.3433}, {'id': 69, 'wordPositions': [6], 'entailedWords': ['divest'], 'entailedTree': {'word': 'divest'}, 'priorScore': 0.004118, 'contextScore': 0.5044, 'score': 0.3841}, {'id': 70, 'wordPositions': [6], 'entailedWords': ['trade'], 'entailedTree': {'word': 'trade'}, 'priorScore': 0.007189, 'contextScore': 0.1932, 'score': 0.3211}, {'id': 71, 'wordPositions': [6], 'entailedWords': ['stock'], 'entailedTree': {'word': 'stock'}, 'priorScore': 0.001741, 'contextScore': 0.5954, 'score': 0.373}, {'id': 72, 'wordPositions': [6], 'entailedWords': ['offer'], 'entailedTree': {'word': 'offer'}, 'priorScore': 0.03918, 'contextScore': 0.1639, 'score': 0.9492}, {'id': 73, 'wordPositions': [6], 'entailedWords': ['close'], 'entailedTree': {'word': 'close'}, 'priorScore': 0.01272, 'contextScore': 0.1354, 'score': 0.4085}, {'id': 74, 'wordPositions': [6], 'entailedWords': ['carry'], 'entailedTree': {'word': 'carry'}, 'priorScore': 0.02029, 'contextScore': -0.04738, 'score': 0.4869}, {'id': 75, 'wordPositions': [6], 'entailedWords': ['take'], 'entailedTree': {'word': 'take'}, 'priorScore': 0.0417, 'contextScore': 0.07169, 'score': 0.9627}, {'id': 76, 'wordPositions': [6], 'entailedWords': ['sale'], 'entailedTree': {'word': 'sale'}, 'priorScore': 0.01802, 'contextScore': 0.2658, 'score': 0.5667}, {'id': 77, 'wordPositions': [6], 'entailedWords': ['push'], 'entailedTree': {'word': 'push'}, 'priorScore': 0.005906, 'contextScore': -0.07855, 'score': 0.1867}, {'id': 78, 'wordPositions': [6], 'entailedWords': ['move'], 'entailedTree': {'word': 'move'}, 'priorScore': 0.02562, 'contextScore': 0.001044, 'score': 0.6128}, {'id': 79, 'wordPositions': [6], 'entailedWords': ['give'], 'entailedTree': {'word': 'give'}, 'priorScore': 0.02593, 'contextScore': -0.06026, 'score': 0.5946}, {'id': 80, 'wordPositions': [6], 'entailedWords': ['fail'], 'entailedTree': {'word': 'fail'}, 'priorScore': 0.003409, 'contextScore': -0.009023, 'score': 0.1646}, {'id': 81, 'wordPositions': [6], 'entailedWords': ['dump'], 'entailedTree': {'word': 'dump'}, 'priorScore': 0.001287, 'contextScore': 0.09231, 'score': 0.1627}, {'id': 82, 'wordPositions': [6], 'entailedWords': ['deal'], 'entailedTree': {'word': 'deal'}, 'priorScore': 0.007915, 'contextScore': 0.3984, 'score': 0.4177}, {'id': 83, 'wordPositions': [6], 'entailedWords': ['cede'], 'entailedTree': {'word': 'cede'}, 'priorScore': 0.002295, 'contextScore': 0.1844, 'score': 0.2197}, {'id': 84, 'wordPositions': [6], 'entailedWords': ['use'], 'entailedTree': {'word': 'use'}, 'priorScore': 0.04218, 'contextScore': -0.1048, 'score': 0.9016}, {'id': 86, 'wordPositions': [6], 'entailedWords': ['buy'], 'entailedTree': {'word': 'buy'}, 'priorScore': 0.1068, 'contextScore': 0.1475, 'score': 2.295}, {'id': 87, 'wordPositions': [9], 'entailedWords': ['vast'], 'entailedTree': {'word': 'vast'}, 'priorScore': 1, 'contextScore': 1, 'score': 1}, {'id': 88, 'wordPositions': [9], 'entailedWords': ['substantial'], 'entailedTree': {'word': 'substantial'}, 'priorScore': 0.04554, 'contextScore': -0.1111, 'score': 0.9663}, {'id': 89, 'wordPositions': [9], 'entailedWords': ['staggering'], 'entailedTree': {'word': 'staggering'}, 'priorScore': 0.004302, 'contextScore': -0.03916, 'score': 0.1704}, {'id': 90, 'wordPositions': [9], 'entailedWords': ['impressive'], 'entailedTree': {'word': 'impressive'}, 'priorScore': 0.009432, 'contextScore': -0.09217, 'score': 0.2518}, {'id': 91, 'wordPositions': [9], 'entailedWords': ['sprawling'], 'entailedTree': {'word': 'sprawling'}, 'priorScore': 0.003871, 'contextScore': 0.01256, 'score': 0.1824}, {'id': 92, 'wordPositions': [9], 'entailedWords': ['sizeable'], 'entailedTree': {'word': 'sizeable'}, 'priorScore': 0.01273, 'contextScore': -0.06615, 'score': 0.3282}, {'id': 93, 'wordPositions': [9], 'entailedWords': ['sizable'], 'entailedTree': {'word': 'sizable'}, 'priorScore': 0.02152, 'contextScore': -0.06582, 'score': 0.5041}, {'id': 94, 'wordPositions': [9], 'entailedWords': ['massive'], 'entailedTree': {'word': 'massive'}, 'priorScore': 0.03395, 'contextScore': -0.08603, 'score': 0.7445}, {'id': 95, 'wordPositions': [9], 'entailedWords': ['general'], 'entailedTree': {'word': 'general'}, 'priorScore': 0.003905, 'contextScore': 0.02571, 'score': 0.1884}, {'id': 96, 'wordPositions': [9], 'entailedWords': ['strong'], 'entailedTree': {'word': 'strong'}, 'priorScore': 0.00605, 'contextScore': -0.02748, 'score': 0.21}, {'id': 97, 'wordPositions': [9], 'entailedWords': ['entire'], 'entailedTree': {'word': 'entire'}, 'priorScore': 0.04217, 'contextScore': -0.09496, 'score': 0.9053}, {'id': 98, 'wordPositions': [9], 'entailedWords': ['small'], 'entailedTree': {'word': 'small'}, 'priorScore': 0.05191, 'contextScore': -0.09054, 'score': 1.102}, {'id': 99, 'wordPositions': [9], 'entailedWords': ['major'], 'entailedTree': {'word': 'major'}, 'priorScore': 0.01087, 'contextScore': 0.0009603, 'score': 0.3177}, {'id': 100, 'wordPositions': [9], 'entailedWords': ['large'], 'entailedTree': {'word': 'large'}, 'priorScore': 0.1547, 'contextScore': -0.05897, 'score': 3.17}, {'id': 101, 'wordPositions': [9], 'entailedWords': ['heavy'], 'entailedTree': {'word': 'heavy'}, 'priorScore': 0.003534, 'contextScore': -0.04019, 'score': 0.1546}, {'id': 102, 'wordPositions': [9], 'entailedWords': ['giant'], 'entailedTree': {'word': 'giant'}, 'priorScore': 0.001202, 'contextScore': 0.2412, 'score': 0.2205}, {'id': 103, 'wordPositions': [9], 'entailedWords': ['fixed'], 'entailedTree': {'word': 'fixed'}, 'priorScore': 0.004741, 'contextScore': 0.03233, 'score': 0.2078}, {'id': 104, 'wordPositions': [9], 'entailedWords': ['broad'], 'entailedTree': {'word': 'broad'}, 'priorScore': 0.02389, 'contextScore': -0.09412, 'score': 0.5402}, {'id': 105, 'wordPositions': [9], 'entailedWords': ['high'], 'entailedTree': {'word': 'high'}, 'priorScore': 0.01766, 'contextScore': -0.1194, 'score': 0.4055}, {'id': 106, 'wordPositions': [9], 'entailedWords': ['firm'], 'entailedTree': {'word': 'firm'}, 'priorScore': 0.0003493, 'contextScore': 0.444, 'score': 0.2846}, {'id': 107, 'wordPositions': [9], 'entailedWords': ['big'], 'entailedTree': {'word': 'big'}, 'priorScore': 0.01542, 'contextScore': -0.1219, 'score': 0.3596}, {'id': 108, 'wordPositions': [10], 'entailedWords': ['portfolio'], 'entailedTree': {'word': 'portfolio'}, 'priorScore': 1, 'contextScore': 1, 'score': 1}, {'id': 109, 'wordPositions': [10], 'entailedWords': ['investment'], 'entailedTree': {'word': 'investment'}, 'priorScore': 0.02183, 'contextScore': 0.9091, 'score': 0.9003}, {'id': 110, 'wordPositions': [10], 'entailedWords': ['business'], 'entailedTree': {'word': 'business'}, 'priorScore': 0.01713, 'contextScore': 0.46, 'score': 0.6266}, {'id': 111, 'wordPositions': [10], 'entailedWords': ['holding'], 'entailedTree': {'word': 'holding'}, 'priorScore': 0.01718, 'contextScore': 0.5854, 'score': 0.6778}, {'id': 112, 'wordPositions': [10], 'entailedWords': ['stock'], 'entailedTree': {'word': 'stock'}, 'priorScore': 0.009958, 'contextScore': 0.8278, 'score': 0.6303}, {'id': 113, 'wordPositions': [10], 'entailedWords': ['range'], 'entailedTree': {'word': 'range'}, 'priorScore': 0.01049, 'contextScore': 0.217, 'score': 0.3966}, {'id': 114, 'wordPositions': [10], 'entailedWords': ['asset'], 'entailedTree': {'word': 'asset'}, 'priorScore': 0.02907, 'contextScore': 0.695, 'score': 0.9594}, {'id': 115, 'wordPositions': [10], 'entailedWords': ['post'], 'entailedTree': {'word': 'post'}, 'priorScore': 0.01619, 'contextScore': -0.01949, 'score': 0.4161}, {'id': 116, 'wordPositions': [10], 'entailedWords': ['fund'], 'entailedTree': {'word': 'fund'}, 'priorScore': 0.01424, 'contextScore': 0.4595, 'score': 0.5685}, {'id': 117, 'wordPositions': [12], 'entailedWords': ['industrial'], 'entailedTree': {'word': 'industrial'}, 'priorScore': 1, 'contextScore': 1, 'score': 1}, {'id': 118, 'wordPositions': [12], 'entailedWords': ['entrepreneurial'], 'entailedTree': {'word': 'entrepreneurial'}, 'priorScore': 0.00327, 'contextScore': 0.1005, 'score': 0.2056}, {'id': 119, 'wordPositions': [12], 'entailedWords': ['manufacturing'], 'entailedTree': {'word': 'manufacturing'}, 'priorScore': 0.02258, 'contextScore': 0.05331, 'score': 0.573}, {'id': 120, 'wordPositions': [12], 'entailedWords': ['intellectual'], 'entailedTree': {'word': 'intellectual'}, 'priorScore': 0.009543, 'contextScore': 0.01413, 'score': 0.2965}, {'id': 121, 'wordPositions': [12], 'entailedWords': ['production'], 'entailedTree': {'word': 'production'}, 'priorScore': 0.005145, 'contextScore': 0.004747, 'score': 0.2048}, {'id': 122, 'wordPositions': [12], 'entailedWords': ['industries'], 'entailedTree': {'word': 'industries'}, 'priorScore': 0.0003605, 'contextScore': 0.2372, 'score': 0.2021}, {'id': 123, 'wordPositions': [12], 'entailedWords': ['enterprise'], 'entailedTree': {'word': 'enterprise'}, 'priorScore': 0.003029, 'contextScore': 0.2135, 'score': 0.246}, {'id': 124, 'wordPositions': [12], 'entailedWords': ['commercial'], 'entailedTree': {'word': 'commercial'}, 'priorScore': 0.07164, 'contextScore': 0.2932, 'score': 1.65}, {'id': 125, 'wordPositions': [12], 'entailedWords': ['collective'], 'entailedTree': {'word': 'collective'}, 'priorScore': 0.004771, 'contextScore': 0.02627, 'score': 0.2059}, {'id': 126, 'wordPositions': [12], 'entailedWords': ['important'], 'entailedTree': {'word': 'important'}, 'priorScore': 0.03032, 'contextScore': 0.01346, 'score': 0.7117}, {'id': 127, 'wordPositions': [12], 'entailedWords': ['developed'], 'entailedTree': {'word': 'developed'}, 'priorScore': 0.006793, 'contextScore': -0.09438, 'score': 0.1981}, {'id': 128, 'wordPositions': [12], 'entailedWords': ['corporate'], 'entailedTree': {'word': 'corporate'}, 'priorScore': 0.01463, 'contextScore': 0.4802, 'score': 0.5846}, {'id': 129, 'wordPositions': [12], 'entailedWords': ['property'], 'entailedTree': {'word': 'property'}, 'priorScore': 0.0009593, 'contextScore': 0.5616, 'score': 0.3438}, {'id': 130, 'wordPositions': [12], 'entailedWords': ['industry'], 'entailedTree': {'word': 'industry'}, 'priorScore': 0.002907, 'contextScore': 0.167, 'score': 0.2249}, {'id': 131, 'wordPositions': [12], 'entailedWords': ['economic'], 'entailedTree': {'word': 'economic'}, 'priorScore': 0.03515, 'contextScore': 0.00621, 'score': 0.8055}, {'id': 132, 'wordPositions': [12], 'entailedWords': ['business'], 'entailedTree': {'word': 'business'}, 'priorScore': 0.01823, 'contextScore': 0.5273, 'score': 0.6756}, {'id': 133, 'wordPositions': [12], 'entailedWords': ['various'], 'entailedTree': {'word': 'various'}, 'priorScore': 0.04311, 'contextScore': -0.03735, 'score': 0.9472}, {'id': 134, 'wordPositions': [12], 'entailedWords': ['several'], 'entailedTree': {'word': 'several'}, 'priorScore': 0.04179, 'contextScore': -0.001928, 'score': 0.935}, {'id': 135, 'wordPositions': [12], 'entailedWords': ['estate'], 'entailedTree': {'word': 'estate'}, 'priorScore': 0.003321, 'contextScore': 0.4972, 'score': 0.3653}, {'id': 136, 'wordPositions': [12], 'entailedWords': ['trade'], 'entailedTree': {'word': 'trade'}, 'priorScore': 0.008195, 'contextScore': 0.2989, 'score': 0.3835}, {'id': 137, 'wordPositions': [12], 'entailedWords': ['small'], 'entailedTree': {'word': 'small'}, 'priorScore': 0.03465, 'contextScore': 0.1114, 'score': 0.8377}, {'id': 138, 'wordPositions': [12], 'entailedWords': ['major'], 'entailedTree': {'word': 'major'}, 'priorScore': 0.04192, 'contextScore': 0.1394, 'score': 0.9941}, {'id': 139, 'wordPositions': [12], 'entailedWords': ['large'], 'entailedTree': {'word': 'large'}, 'priorScore': 0.06311, 'contextScore': 0.4358, 'score': 1.536}, {'id': 141, 'wordPositions': [12], 'entailedWords': ['many'], 'entailedTree': {'word': 'many'}, 'priorScore': 0.04711, 'contextScore': -0.01329, 'score': 1.037}, {'id': 142, 'wordPositions': [12], 'entailedWords': ['main'], 'entailedTree': {'word': 'main'}, 'priorScore': 0.03127, 'contextScore': 0.02857, 'score': 0.7369}, {'id': 144, 'wordPositions': [13], 'entailedWords': ['holding'], 'entailedTree': {'word': 'holding'}, 'priorScore': 1, 'contextScore': 1, 'score': 1}, {'id': 145, 'wordPositions': [13], 'entailedWords': ['portfolio'], 'entailedTree': {'word': 'portfolio'}, 'priorScore': 0.00948, 'contextScore': 0.9695, 'score': 0.6774}, {'id': 146, 'wordPositions': [13], 'entailedWords': ['ownership'], 'entailedTree': {'word': 'ownership'}, 'priorScore': 0.01319, 'contextScore': 0.7947, 'score': 0.6817}, {'id': 147, 'wordPositions': [13], 'entailedWords': ['holdings'], 'entailedTree': {'word': 'holdings'}, 'priorScore': 0.009118, 'contextScore': 1, 'score': 0.7234}, {'id': 148, 'wordPositions': [13], 'entailedWords': ['company'], 'entailedTree': {'word': 'company'}, 'priorScore': 0.02487, 'contextScore': 0.7296, 'score': 0.8893}, {'id': 149, 'wordPositions': [13], 'entailedWords': ['land'], 'entailedTree': {'word': 'land'}, 'priorScore': 0.01503, 'contextScore': 0.24, 'score': 0.4966}, {'id': 150, 'wordPositions': [13], 'entailedWords': ['farm'], 'entailedTree': {'word': 'farm'}, 'priorScore': 0.009053, 'contextScore': 0.06983, 'score': 0.309}, {'id': 151, 'wordPositions': [15], 'entailedWords': ['include'], 'entailedTree': {'word': 'include'}, 'priorScore': 1, 'contextScore': 1, 'score': 1}, {'id': 152, 'wordPositions': [15], 'entailedWords': ['incorporation'], 'entailedTree': {'word': 'incorporation'}, 'priorScore': 0.0005711, 'contextScore': 0.1805, 'score': 0.1836}, {'id': 153, 'wordPositions': [15], 'entailedWords': ['incorporated'], 'entailedTree': {'word': 'incorporated'}, 'priorScore': 0.0003062, 'contextScore': 0.7451, 'score': 0.4042}, {'id': 154, 'wordPositions': [15], 'entailedWords': ['incorporate'], 'entailedTree': {'word': 'incorporate'}, 'priorScore': 0.01718, 'contextScore': 0.108, 'score': 0.4868}, {'id': 155, 'wordPositions': [15], 'entailedWords': ['constitute'], 'entailedTree': {'word': 'constitute'}, 'priorScore': 0.005242, 'contextScore': -0.01781, 'score': 0.1977}, {'id': 156, 'wordPositions': [15], 'entailedWords': ['represent'], 'entailedTree': {'word': 'represent'}, 'priorScore': 0.0166, 'contextScore': -0.002085, 'score': 0.4312}, {'id': 157, 'wordPositions': [15], 'entailedWords': ['integrate'], 'entailedTree': {'word': 'integrate'}, 'priorScore': 0.006384, 'contextScore': 0.05766, 'score': 0.2507}, {'id': 158, 'wordPositions': [15], 'entailedWords': ['establish'], 'entailedTree': {'word': 'establish'}, 'priorScore': 0.01415, 'contextScore': -0.09169, 'score': 0.3464}, {'id': 159, 'wordPositions': [15], 'entailedWords': ['encompass'], 'entailedTree': {'word': 'encompass'}, 'priorScore': 0.008179, 'contextScore': 0.1876, 'score': 0.3386}, {'id': 160, 'wordPositions': [15], 'entailedWords': ['associate'], 'entailedTree': {'word': 'associate'}, 'priorScore': 0.01521, 'contextScore': -0.1175, 'score': 0.3572}, {'id': 161, 'wordPositions': [15], 'entailedWords': ['consider'], 'entailedTree': {'word': 'consider'}, 'priorScore': 0.01207, 'contextScore': -0.0947, 'score': 0.3035}, {'id': 162, 'wordPositions': [15], 'entailedWords': ['comprise'], 'entailedTree': {'word': 'comprise'}, 'priorScore': 0.01946, 'contextScore': 0.01374, 'score': 0.4946}, {'id': 163, 'wordPositions': [15], 'entailedWords': ['reflect'], 'entailedTree': {'word': 'reflect'}, 'priorScore': 0.007947, 'contextScore': -0.07109, 'score': 0.2305}, {'id': 164, 'wordPositions': [15], 'entailedWords': ['provide'], 'entailedTree': {'word': 'provide'}, 'priorScore': 0.0425, 'contextScore': 0.09594, 'score': 0.9883}, {'id': 165, 'wordPositions': [15], 'entailedWords': ['produce'], 'entailedTree': {'word': 'produce'}, 'priorScore': 0.03898, 'contextScore': -0.003536, 'score': 0.8782}, {'id': 166, 'wordPositions': [15], 'entailedWords': ['present'], 'entailedTree': {'word': 'present'}, 'priorScore': 0.02007, 'contextScore': -0.0984, 'score': 0.462}, {'id': 167, 'wordPositions': [15], 'entailedWords': ['listing'], 'entailedTree': {'word': 'listing'}, 'priorScore': 0.000705, 'contextScore': 0.1361, 'score': 0.1685}, {'id': 168, 'wordPositions': [15], 'entailedWords': ['involve'], 'entailedTree': {'word': 'involve'}, 'priorScore': 0.02436, 'contextScore': -0.1232, 'score': 0.538}, {'id': 169, 'wordPositions': [15], 'entailedWords': ['contain'], 'entailedTree': {'word': 'contain'}, 'priorScore': 0.05012, 'contextScore': -0.03394, 'score': 1.089}, {'id': 170, 'wordPositions': [15], 'entailedWords': ['consist'], 'entailedTree': {'word': 'consist'}, 'priorScore': 0.05597, 'contextScore': -0.07673, 'score': 1.189}, {'id': 171, 'wordPositions': [15], 'entailedWords': ['concern'], 'entailedTree': {'word': 'concern'}, 'priorScore': 0.005465, 'contextScore': 0.02726, 'score': 0.2202}, {'id': 172, 'wordPositions': [15], 'entailedWords': ['combine'], 'entailedTree': {'word': 'combine'}, 'priorScore': 0.01777, 'contextScore': 0.08098, 'score': 0.4879}, {'id': 173, 'wordPositions': [15], 'entailedWords': ['account'], 'entailedTree': {'word': 'account'}, 'priorScore': 0.002652, 'contextScore': 0.1754, 'score': 0.2232}, {'id': 174, 'wordPositions': [15], 'entailedWords': ['retain'], 'entailedTree': {'word': 'retain'}, 'priorScore': 0.007323, 'contextScore': 0.0563, 'score': 0.269}, {'id': 175, 'wordPositions': [15], 'entailedWords': ['record'], 'entailedTree': {'word': 'record'}, 'priorScore': 0.01176, 'contextScore': -0.02795, 'score': 0.324}, {'id': 176, 'wordPositions': [15], 'entailedWords': ['number'], 'entailedTree': {'word': 'number'}, 'priorScore': 0.02191, 'contextScore': -0.08469, 'score': 0.5042}, {'id': 177, 'wordPositions': [15], 'entailedWords': ['extend'], 'entailedTree': {'word': 'extend'}, 'priorScore': 0.01085, 'contextScore': -0.1138, 'score': 0.2715}, {'id': 178, 'wordPositions': [15], 'entailedWords': ['expand'], 'entailedTree': {'word': 'expand'}, 'priorScore': 0.01255, 'contextScore': 0.3369, 'score': 0.4858}, {'id': 179, 'wordPositions': [15], 'entailedWords': ['engage'], 'entailedTree': {'word': 'engage'}, 'priorScore': 0.004993, 'contextScore': -0.09075, 'score': 0.1636}, {'id': 180, 'wordPositions': [15], 'entailedWords': ['create'], 'entailedTree': {'word': 'create'}, 'priorScore': 0.03484, 'contextScore': 0.0125, 'score': 0.8018}, {'id': 181, 'wordPositions': [15], 'entailedWords': ['belong'], 'entailedTree': {'word': 'belong'}, 'priorScore': 0.00602, 'contextScore': 0.08058, 'score': 0.2526}, {'id': 182, 'wordPositions': [15], 'entailedWords': ['write'], 'entailedTree': {'word': 'write'}, 'priorScore': 0.0248, 'contextScore': -0.1045, 'score': 0.5542}, {'id': 183, 'wordPositions': [15], 'entailedWords': ['range'], 'entailedTree': {'word': 'range'}, 'priorScore': 0.01316, 'contextScore': 0.1233, 'score': 0.4125}, {'id': 184, 'wordPositions': [15], 'entailedWords': ['raise'], 'entailedTree': {'word': 'raise'}, 'priorScore': 0.006715, 'contextScore': 0.02325, 'score': 0.2436}, {'id': 185, 'wordPositions': [15], 'entailedWords': ['offer'], 'entailedTree': {'word': 'offer'}, 'priorScore': 0.02708, 'contextScore': 0.221, 'score': 0.73}, {'id': 186, 'wordPositions': [15], 'entailedWords': ['carry'], 'entailedTree': {'word': 'carry'}, 'priorScore': 0.01828, 'contextScore': 0.02386, 'score': 0.4751}, {'id': 187, 'wordPositions': [15], 'entailedWords': ['build'], 'entailedTree': {'word': 'build'}, 'priorScore': 0.02078, 'contextScore': 0.07983, 'score': 0.5475}, {'id': 188, 'wordPositions': [15], 'entailedWords': ['bring'], 'entailedTree': {'word': 'bring'}, 'priorScore': 0.02225, 'contextScore': -0.02274, 'score': 0.5359}, {'id': 189, 'wordPositions': [15], 'entailedWords': ['allow'], 'entailedTree': {'word': 'allow'}, 'priorScore': 0.01507, 'contextScore': -0.06626, 'score': 0.3748}, {'id': 190, 'wordPositions': [15], 'entailedWords': ['rely'], 'entailedTree': {'word': 'rely'}, 'priorScore': 0.01005, 'contextScore': -0.005455, 'score': 0.2989}, {'id': 191, 'wordPositions': [15], 'entailedWords': ['rank'], 'entailedTree': {'word': 'rank'}, 'priorScore': 0.003869, 'contextScore': -0.01654, 'score': 0.1708}, {'id': 192, 'wordPositions': [15], 'entailedWords': ['make'], 'entailedTree': {'word': 'make'}, 'priorScore': 0.04821, 'contextScore': -0.121, 'score': 1.016}, {'id': 193, 'wordPositions': [15], 'entailedWords': ['hold'], 'entailedTree': {'word': 'hold'}, 'priorScore': 0.01673, 'contextScore': 0.2188, 'score': 0.5221}, {'id': 194, 'wordPositions': [15], 'entailedWords': ['give'], 'entailedTree': {'word': 'give'}, 'priorScore': 0.0328, 'contextScore': -0.1015, 'score': 0.7154}, {'id': 195, 'wordPositions': [15], 'entailedWords': ['deal'], 'entailedTree': {'word': 'deal'}, 'priorScore': 0.006985, 'contextScore': 0.381, 'score': 0.3921}, {'id': 196, 'wordPositions': [15], 'entailedWords': ['bear'], 'entailedTree': {'word': 'bear'}, 'priorScore': 0.006644, 'contextScore': -0.02213, 'score': 0.224}, {'id': 197, 'wordPositions': [15], 'entailedWords': ['use'], 'entailedTree': {'word': 'use'}, 'priorScore': 0.06923, 'contextScore': -0.04112, 'score': 1.468}, {'id': 198, 'wordPositions': [15], 'entailedWords': ['put'], 'entailedTree': {'word': 'put'}, 'priorScore': 0.01489, 'contextScore': -0.004178, 'score': 0.3962}, {'id': 199, 'wordPositions': [15], 'entailedWords': ['add'], 'entailedTree': {'word': 'add'}, 'priorScore': 0.01185, 'contextScore': -0.02438, 'score': 0.3272}, {'id': 200, 'wordPositions': [17], 'entailedWords': ['stake'], 'entailedTree': {'word': 'stake'}, 'priorScore': 1, 'contextScore': 1, 'score': 1}, {'id': 201, 'wordPositions': [17], 'entailedWords': ['shareholding'], 'entailedTree': {'word': 'shareholding'}, 'priorScore': 0.01158, 'contextScore': 1, 'score': 0.7845}, {'id': 202, 'wordPositions': [17], 'entailedWords': ['venture'], 'entailedTree': {'word': 'venture'}, 'priorScore': 0.008254, 'contextScore': 0.6123, 'score': 0.51}, {'id': 203, 'wordPositions': [17], 'entailedWords': ['stock'], 'entailedTree': {'word': 'stock'}, 'priorScore': 0.008269, 'contextScore': 0.7523, 'score': 0.5663}, {'id': 204, 'wordPositions': [17], 'entailedWords': ['share'], 'entailedTree': {'word': 'share'}, 'priorScore': 0.02014, 'contextScore': 0.5649, 'score': 0.7287}, {'id': 205, 'wordPositions': [20], 'entailedWords': ['parent'], 'entailedTree': {'word': 'parent'}, 'priorScore': 1, 'contextScore': 1, 'score': 1}, {'id': 206, 'wordPositions': [20], 'entailedWords': ['family'], 'entailedTree': {'word': 'family'}, 'priorScore': 0.02767, 'contextScore': -0.04002, 'score': 0.6374}, {'id': 207, 'wordPositions': [21], 'entailedWords': ['company'], 'entailedTree': {'word': 'company'}, 'priorScore': 1, 'contextScore': 1, 'score': 1}, {'id': 208, 'wordPositions': [21], 'entailedWords': ['organisation'], 'entailedTree': {'word': 'organisation'}, 'priorScore': 0.009027, 'contextScore': -0.01287, 'score': 0.2754}, {'id': 209, 'wordPositions': [21], 'entailedWords': ['manufacturer'], 'entailedTree': {'word': 'manufacturer'}, 'priorScore': 0.0234, 'contextScore': -0.03667, 'score': 0.5534}, {'id': 210, 'wordPositions': [21], 'entailedWords': ['corporation'], 'entailedTree': {'word': 'corporation'}, 'priorScore': 0.05043, 'contextScore': 0.2508, 'score': 1.209}, {'id': 211, 'wordPositions': [21], 'entailedWords': ['association'], 'entailedTree': {'word': 'association'}, 'priorScore': 0.01363, 'contextScore': -0.004109, 'score': 0.3709}, {'id': 212, 'wordPositions': [21], 'entailedWords': ['subsidiary'], 'entailedTree': {'word': 'subsidiary'}, 'priorScore': 0.01233, 'contextScore': 0.7947, 'score': 0.6644}, {'id': 213, 'wordPositions': [21], 'entailedWords': ['operation'], 'entailedTree': {'word': 'operation'}, 'priorScore': 0.009866, 'contextScore': -0.07669, 'score': 0.2666}, {'id': 214, 'wordPositions': [21], 'entailedWords': ['operator'], 'entailedTree': {'word': 'operator'}, 'priorScore': 0.008115, 'contextScore': 0.3593, 'score': 0.406}, {'id': 215, 'wordPositions': [21], 'entailedWords': ['business'], 'entailedTree': {'word': 'business'}, 'priorScore': 0.02973, 'contextScore': -0.01577, 'score': 0.6882}, {'id': 216, 'wordPositions': [21], 'entailedWords': ['society'], 'entailedTree': {'word': 'society'}, 'priorScore': 0.009259, 'contextScore': -0.06537, 'score': 0.259}, {'id': 217, 'wordPositions': [21], 'entailedWords': ['airline'], 'entailedTree': {'word': 'airline'}, 'priorScore': 0.01112, 'contextScore': 1, 'score': 0.7862}, {'id': 218, 'wordPositions': [21], 'entailedWords': ['agency'], 'entailedTree': {'word': 'agency'}, 'priorScore': 0.01455, 'contextScore': -0.1175, 'score': 0.3441}, {'id': 219, 'wordPositions': [21], 'entailedWords': ['group'], 'entailedTree': {'word': 'group'}, 'priorScore': 0.02189, 'contextScore': 0.2284, 'score': 0.6292}, {'id': 220, 'wordPositions': [21], 'entailedWords': ['firm'], 'entailedTree': {'word': 'firm'}, 'priorScore': 0.03696, 'contextScore': 0.05612, 'score': 0.8617}]}, 'time': 0.01551, 'ok': True}\n"
     ]
    }
   ],
   "source": [
    "import requests\n",
    "\n",
    "headers = {\n",
    "    'x-textrazor-key': '6539e01f2076cebb1be13a160c17beca2d4e681b6236fc0e600e0220',\n",
    "}\n",
    "\n",
    "data = [\n",
    "  ('extractors', 'entities,entailments'),\n",
    "  ('text', 'Spain\\'s stricken Bankia expects to sell off its vast portfolio of industrial holdings that includes a stake in the parent company of British Airways and Iberia.'),\n",
    "]\n",
    "\n",
    "response = requests.post('https://api.textrazor.com/', headers=headers, data=data).json()\n"
   ]
  },
  {
   "cell_type": "code",
   "execution_count": null,
   "metadata": {
    "collapsed": true
   },
   "outputs": [],
   "source": []
  }
 ],
 "metadata": {
  "kernelspec": {
   "display_name": "Python 3",
   "language": "python",
   "name": "python3"
  },
  "language_info": {
   "codemirror_mode": {
    "name": "ipython",
    "version": 3
   },
   "file_extension": ".py",
   "mimetype": "text/x-python",
   "name": "python",
   "nbconvert_exporter": "python",
   "pygments_lexer": "ipython3",
   "version": "3.6.1"
  }
 },
 "nbformat": 4,
 "nbformat_minor": 2
}
